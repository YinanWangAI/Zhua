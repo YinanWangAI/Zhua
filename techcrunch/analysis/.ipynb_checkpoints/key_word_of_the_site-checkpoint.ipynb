{
 "cells": [
  {
   "cell_type": "code",
   "execution_count": 126,
   "metadata": {
    "collapsed": false
   },
   "outputs": [],
   "source": [
    "%matplotlib inline\n",
    "import jieba\n",
    "import math\n",
    "import matplotlib\n",
    "import matplotlib.pyplot as plt\n",
    "import numpy as np\n",
    "import pandas as pd\n",
    "\n",
    "zhfont1 = matplotlib.font_manager.FontProperties(fname=\"/Library/Fonts/Microsoft/SimSun.ttf\")"
   ]
  },
  {
   "cell_type": "code",
   "execution_count": 124,
   "metadata": {
    "collapsed": false
   },
   "outputs": [],
   "source": [
    "raw_data = pd.read_csv(\"../item.csv\", header=None)\n",
    "raw_data.columns = [\"date\", \"title\", \"url\"]\n",
    "ymd = raw_data[\"date\"].tolist()\n",
    "ymd = pd.DataFrame(np.asarray([x.split('.') for x in ymd], dtype='int32'))\n",
    "ymd.columns = [\"year\", \"month\", \"day\"]\n",
    "data = pd.concat([ymd, data.iloc[:, 1:]], axis=1)\n",
    "data = data[data.title.notnull()]"
   ]
  },
  {
   "cell_type": "code",
   "execution_count": 125,
   "metadata": {
    "collapsed": false
   },
   "outputs": [
    {
     "data": {
      "text/plain": [
       "2014    710\n",
       "2013    510\n",
       "2015    192\n",
       "2016     60\n",
       "Name: year, dtype: int64"
      ]
     },
     "execution_count": 125,
     "metadata": {},
     "output_type": "execute_result"
    }
   ],
   "source": [
    "data[\"year\"].value_counts()"
   ]
  },
  {
   "cell_type": "code",
   "execution_count": 155,
   "metadata": {
    "collapsed": false
   },
   "outputs": [
    {
     "name": "stdout",
     "output_type": "stream",
     "text": [
      "0\n",
      "100\n",
      "200\n",
      "300\n",
      "400\n",
      "500\n",
      "600\n",
      "700\n",
      "800\n",
      "900\n",
      "1000\n",
      "1100\n",
      "1200\n",
      "1300\n",
      "1400\n"
     ]
    }
   ],
   "source": [
    "# 抓取title中的单词\n",
    "word_count = {}\n",
    "for i in range(data.shape[0]):\n",
    "    if i % 100 == 0:\n",
    "        print(i)\n",
    "    seg_list = \"/\".join(jieba.cut(data.title[i], cut_all=True)).split('/')\n",
    "    for tmp in seg_list:\n",
    "        if tmp not in word_count:\n",
    "            word_count[tmp] = 1\n",
    "        else:\n",
    "            word_count[tmp] += 1"
   ]
  },
  {
   "cell_type": "code",
   "execution_count": 231,
   "metadata": {
    "collapsed": false,
    "scrolled": true
   },
   "outputs": [],
   "source": [
    "# 词频最高的单词\n",
    "word_df = pd.DataFrame.from_dict(word_count, orient=\"index\")\n",
    "word_df.columns = [\"count\"]\n",
    "word_df = word_df.sort_values(\"count\", ascending=False)\n",
    "word_df[word_df[\"count\"] >= 30]\n",
    "# 发现谷歌被拆分成谷和歌两个单词\n",
    "new_row = pd.Series(np.min([word_df[word_df.index == \"歌\"][\"count\"], word_df[word_df.index == \"谷\"][\"count\"]]) * 2,\n",
    "                   name=\"谷歌\", index=[\"count\"])\n",
    "word_df = word_df.append(new_row)"
   ]
  },
  {
   "cell_type": "code",
   "execution_count": 232,
   "metadata": {
    "collapsed": false
   },
   "outputs": [],
   "source": [
    "# 过滤一个字的单词\n",
    "word_df = word_df[np.asarray(list(map(len, word_df.index))) > 1]\n",
    "# 过滤outlier （中国, TechCrunch）\n",
    "word_df = word_df.drop(word_df.index[[0, 1]])"
   ]
  },
  {
   "cell_type": "code",
   "execution_count": 238,
   "metadata": {
    "collapsed": false
   },
   "outputs": [
    {
     "data": {
      "text/plain": [
       "<Container object of 50 artists>"
      ]
     },
     "execution_count": 238,
     "metadata": {},
     "output_type": "execute_result"
    },
    {
     "data": {
      "image/png": "[encoded data removed]",
      "text/plain": [
       "<matplotlib.figure.Figure at 0x118aaabe0>"
      ]
     },
     "metadata": {},
     "output_type": "display_data"
    }
   ],
   "source": [
    "# 三年最热词汇\n",
    "word_df = word_df.sort_values(\"count\", ascending=False)\n",
    "top = 50\n",
    "x = range(top)\n",
    "plt.figure(1)\n",
    "plt.xticks(x, list(word_df.index[:top]), fontproperties=zhfont1)\n",
    "locs, labels = plt.xticks()\n",
    "plt.setp(labels, rotation=90)\n",
    "plt.bar(x, word_df[\"count\"][:top])"
   ]
  },
  {
   "cell_type": "code",
   "execution_count": 256,
   "metadata": {
    "collapsed": false,
    "scrolled": true
   },
   "outputs": [
    {
     "name": "stdout",
     "output_type": "stream",
     "text": [
      "2014\n",
      "Index(['中国', 'TechCrunch', '应用', '苹果', '推出', '公司', '谷歌', '微软', '用户', '功能',\n",
      "       'Windows', '亿美元', '设备', '收购', '专利', '发布', '游戏', '服务', 'Nest', '技术',\n",
      "       'iOS', '智能', '3D', '融资', '万美元', '移动', 'iPhone', '机器人', '平台', '美元'],\n",
      "      dtype='object')\n",
      "2015\n",
      "Index(['中国', 'TechCrunch', '应用', '苹果', '2015', '推出', '谷歌', '旧金山', '公司', '用户',\n",
      "       '微软', 'iPhone', '亚马逊', '未来', 'Galaxy', 'Android', '三星', 'TV', 'Google',\n",
      "       '设备', '功能', 'Disrupt', '游戏', '平板', '销量', 'Uber', '支持', '数据',\n",
      "       'September', '市场'],\n",
      "      dtype='object')\n",
      "2016\n",
      "Index(['中国', 'TechCrunch', '2015', '新闻', '公司', '移动', '机器人', 'Facebook', '智能',\n",
      "       '创业', '可能', '设备', '用户', '表现', '穿戴', '科技', '数字', 'Go', '因为', 'Bay',\n",
      "       'Las', 'Vegas', '网页', '大会', '3D', '可以', '获取', 'One', 'Oculus', '最新'],\n",
      "      dtype='object')\n"
     ]
    }
   ],
   "source": [
    "# 每年最热词汇\n",
    "top = 30\n",
    "years = [2014, 2015, 2016]\n",
    "for year in years:\n",
    "    print(year)\n",
    "    sub_data = data[data[\"year\"] == year]\n",
    "    sub_word_count = {}\n",
    "    for i in range(sub_data.shape[0]):\n",
    "        seg_list = '/'.join(jieba.cut(list(sub_data.title)[i])).split('/')\n",
    "        for tmp in seg_list:\n",
    "            if tmp in sub_word_count:\n",
    "                sub_word_count[tmp] += 1\n",
    "            else:\n",
    "                sub_word_count[tmp] = 1\n",
    "    df = pd.DataFrame.from_dict(sub_word_count, orient=\"index\")\n",
    "    df.columns = [\"counts\"]\n",
    "    df = df[np.asarray(list(map(len, df.index))) > 1]\n",
    "    df = df.sort_values(\"counts\", ascending=False)\n",
    "    print(df.index[:top])"
   ]
  },
  {
   "cell_type": "code",
   "execution_count": null,
   "metadata": {
    "collapsed": true
   },
   "outputs": [],
   "source": []
  }
 ],
 "metadata": {
  "kernelspec": {
   "display_name": "Python 3",
   "language": "python",
   "name": "python3"
  },
  "language_info": {
   "codemirror_mode": {
    "name": "ipython",
    "version": 3
   },
   "file_extension": ".py",
   "mimetype": "text/x-python",
   "name": "python",
   "nbconvert_exporter": "python",
   "pygments_lexer": "ipython3",
   "version": "3.5.1"
  }
 },
 "nbformat": 4,
 "nbformat_minor": 0
}
